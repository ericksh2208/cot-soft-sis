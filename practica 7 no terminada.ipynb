{
 "cells": [
  {
   "cell_type": "code",
   "execution_count": 36,
   "id": "54c2be80-ffbc-4df6-9597-f0263aad5b1a",
   "metadata": {},
   "outputs": [
    {
     "name": "stdin",
     "output_type": "stream",
     "text": [
      "Introduce el porcentaje del alumno:  87\n"
     ]
    },
    {
     "name": "stdout",
     "output_type": "stream",
     "text": [
      "El grado del alumno es: B\n"
     ]
    }
   ],
   "source": [
    "porcentaje = float(input(\"Introduce el porcentaje del alumno: \"))\n",
    "if porcentaje > 90:\n",
    "    grado = 'A'\n",
    "    print(f\"El grado del alumno es: {grado}\")\n",
    "elif porcentaje > 80 and porcentaje <= 90:\n",
    "    grado = 'B'\n",
    "    print(f\"El grado del alumno es: {grado}\")\n",
    "elif porcentaje >= 60 and porcentaje <= 80:\n",
    "    grado = 'C'\n",
    "    print(f\"El grado del alumno es: {grado}\")\n",
    "else:\n",
    "    grado = 'D'\n",
    "    print(f\"El grado del alumno es: {grado}\")"
   ]
  },
  {
   "cell_type": "code",
   "execution_count": 9,
   "id": "0dcd878e-69b5-4cda-890a-c7245ad4f027",
   "metadata": {},
   "outputs": [
    {
     "name": "stdin",
     "output_type": "stream",
     "text": [
      "Introduce el precio de la bicicleta:  80000\n"
     ]
    },
    {
     "name": "stdout",
     "output_type": "stream",
     "text": [
      "El impuesto a pagar por la bicicleta es: 8000.0\n"
     ]
    }
   ],
   "source": [
    "precio_bicicleta = float(input(\"Introduce el precio de la bicicleta \"))\n",
    "if precio_bicicleta > 100000:\n",
    "    impuesto = precio_bicicleta * 0.15\n",
    "    print(f\"El impuesto a pagar por la bicicleta es: {impuesto}\")\n",
    "elif precio_bicicleta > 50000 and precio_bicicleta <= 100000:\n",
    "    impuesto = precio_bicicleta * 0.10\n",
    "    print(f\"El impuesto a pagar por la bicicleta es: {impuesto}\")\n",
    "else:\n",
    "    impuesto = precio_bicicleta * 0.05\n",
    "    print(f\"El impuesto a pagar por la bicicleta es: {impuesto}\")"
   ]
  },
  {
   "cell_type": "code",
   "execution_count": 5,
   "id": "cf52f431-c3e6-4c5b-8593-6738b4475c68",
   "metadata": {},
   "outputs": [
    {
     "name": "stdin",
     "output_type": "stream",
     "text": [
      "Inserta el año que deseas consultar si es biciesto  2016\n"
     ]
    },
    {
     "name": "stdout",
     "output_type": "stream",
     "text": [
      "El año 2016.0 es biciesto.\n"
     ]
    }
   ],
   "source": [
    "año = float(input(\"Inserta el año que deseas consultar si es biciesto \"))\n",
    "if (año % 4 == 0 and (año % 100 != 0 or año % 400 == 0)):\n",
    "    print(f\"El año {año} es biciesto.\")\n",
    "else:\n",
    "    print(f\"El año {año} no es biciesto. \")"
   ]
  }
 ],
 "metadata": {
  "kernelspec": {
   "display_name": "Python [conda env:base] *",
   "language": "python",
   "name": "conda-base-py"
  },
  "language_info": {
   "codemirror_mode": {
    "name": "ipython",
    "version": 3
   },
   "file_extension": ".py",
   "mimetype": "text/x-python",
   "name": "python",
   "nbconvert_exporter": "python",
   "pygments_lexer": "ipython3",
   "version": "3.12.7"
  }
 },
 "nbformat": 4,
 "nbformat_minor": 5
}
