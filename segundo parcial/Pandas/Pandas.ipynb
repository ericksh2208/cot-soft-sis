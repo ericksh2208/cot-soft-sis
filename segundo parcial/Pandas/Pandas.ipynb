{
 "cells": [
  {
   "cell_type": "code",
   "execution_count": null,
   "id": "55093dcb-365e-44cc-a10a-f3734d1c5f53",
   "metadata": {},
   "outputs": [],
   "source": [
    "pip install pandas"
   ]
  },
  {
   "cell_type": "code",
   "execution_count": null,
   "id": "23101b58-911e-4e2d-9b34-ce1ff854ab8b",
   "metadata": {},
   "outputs": [],
   "source": [
    "import pandas as pd"
   ]
  },
  {
   "cell_type": "code",
   "execution_count": null,
   "id": "fd79daf7-0c67-40a9-baa4-534f91bed8f2",
   "metadata": {},
   "outputs": [],
   "source": [
    "df = pd.read_csv(\"listings.csv\")\n",
    "\n",
    "df.head()"
   ]
  },
  {
   "cell_type": "code",
   "execution_count": null,
   "id": "049ff77d-05b8-436e-9b03-d25e1aed2809",
   "metadata": {},
   "outputs": [],
   "source": [
    "df.tail(n = 10) # The last 10 rows of the DataFrame"
   ]
  },
  {
   "cell_type": "code",
   "execution_count": null,
   "id": "2f19af8f-4076-4930-afd8-b564b1420f1e",
   "metadata": {},
   "outputs": [],
   "source": [
    "df.describe()"
   ]
  },
  {
   "cell_type": "code",
   "execution_count": null,
   "id": "92e76c85-0a8f-4feb-911a-4bf5ff454ce3",
   "metadata": {},
   "outputs": [],
   "source": [
    "df.info(show_counts=True, memory_usage=True, verbose=True)"
   ]
  },
  {
   "cell_type": "code",
   "execution_count": null,
   "id": "d514f7d3-6d75-41d4-a746-1e98cb305387",
   "metadata": {},
   "outputs": [],
   "source": [
    "df.shape # Get the number of rows and columns"
   ]
  },
  {
   "cell_type": "code",
   "execution_count": null,
   "id": "fcec6f4a-8715-4561-a4c3-0e7dc216ccc7",
   "metadata": {},
   "outputs": [],
   "source": [
    "df.columns"
   ]
  },
  {
   "cell_type": "code",
   "execution_count": null,
   "id": "76204a40-1928-478e-bfd3-e8c52e167f16",
   "metadata": {},
   "outputs": [],
   "source": [
    "list(df.columns)"
   ]
  },
  {
   "cell_type": "code",
   "execution_count": null,
   "id": "f8f2dc29-0441-4f46-9360-f7762ed1aec4",
   "metadata": {},
   "outputs": [],
   "source": [
    "df[['name']]"
   ]
  },
  {
   "cell_type": "code",
   "execution_count": null,
   "id": "4db534eb-262a-485a-8311-8504b87ce981",
   "metadata": {},
   "outputs": [],
   "source": [
    "df[['name', 'neighbourhood_group']]"
   ]
  },
  {
   "cell_type": "code",
   "execution_count": null,
   "id": "28bd1a1e-44e9-4dce-ad32-c3b06204c70a",
   "metadata": {},
   "outputs": [],
   "source": [
    "df[['last_review', 'reviews_per_month']]"
   ]
  },
  {
   "cell_type": "code",
   "execution_count": null,
   "id": "18ac6f79-59f2-4797-bc1d-fec27f0af3d9",
   "metadata": {},
   "outputs": [],
   "source": [
    "from dateutil.parser import parse\n",
    "import datetime\n",
    "\n",
    "df = pd.read_csv(\"listings.csv\")\n",
    "\n",
    "df2 = pd.DataFrame(df['reviews_per_month'] )\n",
    "df2['last_review'] = pd.to_datetime(df[\"last_review\"])\n",
    "df2"
   ]
  }
 ],
 "metadata": {
  "kernelspec": {
   "display_name": "Python 3 (ipykernel)",
   "language": "python",
   "name": "python3"
  },
  "language_info": {
   "codemirror_mode": {
    "name": "ipython",
    "version": 3
   },
   "file_extension": ".py",
   "mimetype": "text/x-python",
   "name": "python",
   "nbconvert_exporter": "python",
   "pygments_lexer": "ipython3",
   "version": "3.12.2"
  }
 },
 "nbformat": 4,
 "nbformat_minor": 5
}
