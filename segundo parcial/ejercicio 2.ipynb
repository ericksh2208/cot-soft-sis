{
 "cells": [
  {
   "cell_type": "code",
   "execution_count": 17,
   "id": "8567a147-9f79-4b69-b000-e9bf596e481b",
   "metadata": {},
   "outputs": [
    {
     "name": "stdout",
     "output_type": "stream",
     "text": [
      "El animal esta caminando \n",
      "None\n",
      "El perro esta caminado\n",
      "None\n",
      "El gato esta caminando\n",
      "None\n"
     ]
    }
   ],
   "source": [
    "class Animal:\n",
    "    __nombre = 'desconocido'\n",
    "    def caminar(self):\n",
    "        print(\"El animal esta caminando \")\n",
    "\n",
    "class Perro:\n",
    "    __nombre = 'Max'\n",
    "    def caminar(self):\n",
    "        print(\"El perro esta caminado\")\n",
    "\n",
    "class Gato:\n",
    "    __nombre = 'Wilson'\n",
    "    def caminar(self):\n",
    "        print(\"El gato esta caminando\")\n",
    "\n",
    "un_animal=Animal()\n",
    "print(un_animal.caminar())\n",
    "un_perro=Perro()\n",
    "print(un_perro.caminar())\n",
    "un_gato=Gato()\n",
    "print(un_gato.caminar())"
   ]
  }
 ],
 "metadata": {
  "kernelspec": {
   "display_name": "Python [conda env:base] *",
   "language": "python",
   "name": "conda-base-py"
  },
  "language_info": {
   "codemirror_mode": {
    "name": "ipython",
    "version": 3
   },
   "file_extension": ".py",
   "mimetype": "text/x-python",
   "name": "python",
   "nbconvert_exporter": "python",
   "pygments_lexer": "ipython3",
   "version": "3.12.7"
  }
 },
 "nbformat": 4,
 "nbformat_minor": 5
}
