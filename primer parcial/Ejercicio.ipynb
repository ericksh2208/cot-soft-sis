{
 "cells": [
  {
   "cell_type": "code",
   "execution_count": 23,
   "id": "b668ba48-33f9-4e4f-b517-c89ca851cc4b",
   "metadata": {},
   "outputs": [
    {
     "name": "stdin",
     "output_type": "stream",
     "text": [
      "pregunta 99\n"
     ]
    },
    {
     "name": "stdout",
     "output_type": "stream",
     "text": [
      "Es un numero impar\n"
     ]
    }
   ],
   "source": [
    "numero=int(input(\"pregunta\"))\n",
    "if numero %2 == 0:\n",
    "    print('Es un numero par')\n",
    "else:\n",
    "    print(\"Es un numero impar\")"
   ]
  },
  {
   "cell_type": "code",
   "execution_count": 3,
   "id": "705cb149-4c02-4e34-a570-2bbec7eb93c9",
   "metadata": {},
   "outputs": [
    {
     "name": "stdin",
     "output_type": "stream",
     "text": [
      "Escribe la medida del cuadrado 5\n"
     ]
    },
    {
     "name": "stdout",
     "output_type": "stream",
     "text": [
      "El area del cuadrado es:  25\n"
     ]
    }
   ],
   "source": [
    "lado = int(input(\"Escribe la medida del cuadrado\"))\n",
    "print(\"El area del cuadrado es: \", lado*lado)"
   ]
  },
  {
   "cell_type": "code",
   "execution_count": 5,
   "id": "cab1ff3c-b06c-431e-a171-5053e7579a11",
   "metadata": {},
   "outputs": [
    {
     "name": "stdin",
     "output_type": "stream",
     "text": [
      "Escribe la medida de la base 5\n",
      "Escribe la medida de la altura 2\n"
     ]
    },
    {
     "name": "stdout",
     "output_type": "stream",
     "text": [
      "El area del rectangulo es:  10\n"
     ]
    }
   ],
   "source": [
    "base = int(input(\"Escribe la medida de la base\"))\n",
    "altura =int(input(\"Escribe la medida de la altura\"))\n",
    "print(\"El area del rectangulo es: \", base*altura)"
   ]
  },
  {
   "cell_type": "code",
   "execution_count": 7,
   "id": "5b3f205a-1df3-433f-aed7-58d711f69525",
   "metadata": {},
   "outputs": [
    {
     "name": "stdin",
     "output_type": "stream",
     "text": [
      "Escribe la medida de la base 5\n",
      "Escriba la medida de la altura 3\n"
     ]
    },
    {
     "name": "stdout",
     "output_type": "stream",
     "text": [
      "El area del triangulo es:  7.5\n"
     ]
    }
   ],
   "source": [
    "base = int(input(\"Escribe la medida de la base\"))\n",
    "altura = int(input(\"Escriba la medida de la altura\"))\n",
    "print(\"El area del triangulo es: \", base*altura/2)"
   ]
  },
  {
   "cell_type": "code",
   "execution_count": null,
   "id": "a61c9d05-44ed-48fa-9b93-a2542f7984d3",
   "metadata": {},
   "outputs": [],
   "source": [
    "pi = 3.14\n",
    "radio = int(input(\"Escribe la medida del radio del circulo\"))\n",
    "print(\""
   ]
  }
 ],
 "metadata": {
  "kernelspec": {
   "display_name": "Python [conda env:base] *",
   "language": "python",
   "name": "conda-base-py"
  },
  "language_info": {
   "codemirror_mode": {
    "name": "ipython",
    "version": 3
   },
   "file_extension": ".py",
   "mimetype": "text/x-python",
   "name": "python",
   "nbconvert_exporter": "python",
   "pygments_lexer": "ipython3",
   "version": "3.12.7"
  }
 },
 "nbformat": 4,
 "nbformat_minor": 5
}
