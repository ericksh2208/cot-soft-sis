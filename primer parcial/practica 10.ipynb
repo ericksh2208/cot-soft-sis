{
 "cells": [
  {
   "cell_type": "code",
   "execution_count": 1,
   "id": "e1bfe242-9c5c-4e3a-bb44-e5fb9fc2efd1",
   "metadata": {},
   "outputs": [
    {
     "name": "stdin",
     "output_type": "stream",
     "text": [
      "Introduce un número para calcular su factorial:  10\n"
     ]
    },
    {
     "name": "stdout",
     "output_type": "stream",
     "text": [
      "El factorial de 10 es 3628800.\n"
     ]
    }
   ],
   "source": [
    "def factorial(n):\n",
    "    if n == 0 or n == 1:\n",
    "        return 1\n",
    "    else:\n",
    "        return n * factorial(n - 1)\n",
    "num = int(input(\"Introduce un número para calcular su factorial: \"))\n",
    "if num < 0:\n",
    "    print(\"El factorial no está definido para números negativos.\")\n",
    "else:\n",
    "    result = factorial(num)\n",
    "    print(f\"El factorial de {num} es {result}.\")\n"
   ]
  },
  {
   "cell_type": "code",
   "execution_count": 7,
   "id": "ba23b5c9-095a-4053-9158-cd8d378644c7",
   "metadata": {},
   "outputs": [
    {
     "name": "stdin",
     "output_type": "stream",
     "text": [
      "Introduce un número para calcular la suma de sus dígitos:  23\n"
     ]
    },
    {
     "name": "stdout",
     "output_type": "stream",
     "text": [
      "La suma de los dígitos de 23 es 5.\n"
     ]
    }
   ],
   "source": [
    "def suma_digitos(numero):\n",
    "    suma = 0\n",
    "    while numero > 0:\n",
    "        suma += numero % 10  \n",
    "        numero //= 10 \n",
    "    return suma\n",
    "num = int(input(\"Introduce un número para calcular la suma de sus dígitos: \"))\n",
    "resultado = suma_digitos(num)\n",
    "print(f\"La suma de los dígitos de {num} es {resultado}.\")\n"
   ]
  },
  {
   "cell_type": "code",
   "execution_count": 11,
   "id": "98c6c181-fd4e-4909-bcaa-e212d11b17da",
   "metadata": {},
   "outputs": [
    {
     "name": "stdin",
     "output_type": "stream",
     "text": [
      "Introduce el primer número:  36\n",
      "Introduce el segundo número:  3\n"
     ]
    },
    {
     "name": "stdout",
     "output_type": "stream",
     "text": [
      "Los números primos entre 3 y 36 son:\n",
      "3\n",
      "5\n",
      "7\n",
      "11\n",
      "13\n",
      "17\n",
      "19\n",
      "23\n",
      "29\n",
      "31\n"
     ]
    }
   ],
   "source": [
    "def es_primo(n):\n",
    "    if n <= 1:\n",
    "        return False\n",
    "    for i in range(2, int(n ** 0.5) + 1):\n",
    "        if n % i == 0:\n",
    "            return False\n",
    "    return True\n",
    "num1 = int(input(\"Introduce el primer número: \"))\n",
    "num2 = int(input(\"Introduce el segundo número: \"))\n",
    "if num1 > num2:\n",
    "    num1, num2 = num2, num1\n",
    "print(f\"Los números primos entre {num1} y {num2} son:\")\n",
    "for num in range(num1, num2 + 1):\n",
    "    if es_primo(num):\n",
    "        print(num)\n"
   ]
  },
  {
   "cell_type": "code",
   "execution_count": null,
   "id": "39726157-8778-4f3d-a00f-93b717827781",
   "metadata": {},
   "outputs": [],
   "source": [
    "n = int(input(\"Introduce un número: \"))\n",
    "for i in range(1, n + 1):\n",
    "    linea = ''.join(str(x) for x in range(1, i + 1))\n",
    "    print(f\"#{linea}\")\n"
   ]
  }
 ],
 "metadata": {
  "kernelspec": {
   "display_name": "Python [conda env:base] *",
   "language": "python",
   "name": "conda-base-py"
  },
  "language_info": {
   "codemirror_mode": {
    "name": "ipython",
    "version": 3
   },
   "file_extension": ".py",
   "mimetype": "text/x-python",
   "name": "python",
   "nbconvert_exporter": "python",
   "pygments_lexer": "ipython3",
   "version": "3.12.7"
  }
 },
 "nbformat": 4,
 "nbformat_minor": 5
}
