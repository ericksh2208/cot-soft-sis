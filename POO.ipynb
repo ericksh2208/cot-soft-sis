{
 "cells": [
  {
   "cell_type": "code",
   "execution_count": 33,
   "id": "f81765dc-5cf5-4a52-90c2-ad9d260a04df",
   "metadata": {},
   "outputs": [
    {
     "name": "stdout",
     "output_type": "stream",
     "text": [
      "Creando artista Lefty SM, Sonora\n"
     ]
    }
   ],
   "source": [
    "class Artista:\n",
    "    disquera = 'Alzada'\n",
    "    genero = 'Rap'\n",
    "    def __init__(self,nombre,region):\n",
    "        print(f\"Creando artista {nombre}, {region}\")\n",
    "        self.nombre = nombre\n",
    "        self.region = region\n",
    "\n",
    "artista = Artista(\"Lefty SM\", \"Sonora\")"
   ]
  },
  {
   "cell_type": "code",
   "execution_count": null,
   "id": "27435f33-f1f7-4cf9-b107-d0fad61b9a9d",
   "metadata": {},
   "outputs": [],
   "source": []
  }
 ],
 "metadata": {
  "kernelspec": {
   "display_name": "Python [conda env:base] *",
   "language": "python",
   "name": "conda-base-py"
  },
  "language_info": {
   "codemirror_mode": {
    "name": "ipython",
    "version": 3
   },
   "file_extension": ".py",
   "mimetype": "text/x-python",
   "name": "python",
   "nbconvert_exporter": "python",
   "pygments_lexer": "ipython3",
   "version": "3.12.7"
  }
 },
 "nbformat": 4,
 "nbformat_minor": 5
}
